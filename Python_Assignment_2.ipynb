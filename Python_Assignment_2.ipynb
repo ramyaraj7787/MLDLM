{
 "cells": [
  {
   "cell_type": "markdown",
   "metadata": {},
   "source": [
    "# Python Assignment 2\n"
   ]
  },
  {
   "cell_type": "markdown",
   "metadata": {},
   "source": [
    "### 1) Create the below pattern using nested for loop in Python.\n",
    "####      *\n",
    "####      * *\n",
    "####      * * *\n",
    "####      * * * *\n",
    "####      * * * * *\n",
    "####      * * * *\n",
    "####      * * *\n",
    "####      * *\n",
    "####      *"
   ]
  },
  {
   "cell_type": "code",
   "execution_count": 1,
   "metadata": {},
   "outputs": [
    {
     "name": "stdout",
     "output_type": "stream",
     "text": [
      "*\n",
      "\n",
      "**\n",
      "\n",
      "***\n",
      "\n",
      "****\n",
      "\n",
      "*****\n",
      "\n",
      "****\n",
      "\n",
      "***\n",
      "\n",
      "**\n",
      "\n",
      "*\n",
      "\n",
      "\n",
      "\n"
     ]
    }
   ],
   "source": [
    "n = 1\n",
    "for i in range(10):\n",
    "    for j in range(n):\n",
    "        print('*', end='')\n",
    "    print(\"\\n\")\n",
    "    if i < 4:\n",
    "        n = n + 1\n",
    "    else:\n",
    "        n = n - 1"
   ]
  },
  {
   "cell_type": "markdown",
   "metadata": {},
   "source": [
    "### 2) Write a Python program to reverse a word after accepting the input from the user.\n",
    "#### Sample Output:\n",
    "##### Input word: ineuron\n",
    "##### Output: norueni"
   ]
  },
  {
   "cell_type": "code",
   "execution_count": 2,
   "metadata": {},
   "outputs": [
    {
     "name": "stdout",
     "output_type": "stream",
     "text": [
      "Input String: Hello World!\n",
      "Output String:  !dlroW olleH\n"
     ]
    }
   ],
   "source": [
    "x = input(\"Input String: \")\n",
    "y = x[::-1]\n",
    "print(\"Output String: \", y)\n"
   ]
  },
  {
   "cell_type": "code",
   "execution_count": null,
   "metadata": {},
   "outputs": [],
   "source": []
  }
 ],
 "metadata": {
  "kernelspec": {
   "display_name": "Python 3",
   "language": "python",
   "name": "python3"
  },
  "language_info": {
   "codemirror_mode": {
    "name": "ipython",
    "version": 3
   },
   "file_extension": ".py",
   "mimetype": "text/x-python",
   "name": "python",
   "nbconvert_exporter": "python",
   "pygments_lexer": "ipython3",
   "version": "3.8.5"
  }
 },
 "nbformat": 4,
 "nbformat_minor": 4
}
