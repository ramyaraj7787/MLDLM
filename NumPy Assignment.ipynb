{
 "cells": [
  {
   "cell_type": "code",
   "execution_count": 1,
   "metadata": {},
   "outputs": [],
   "source": [
    "import numpy as np"
   ]
  },
  {
   "cell_type": "markdown",
   "metadata": {},
   "source": [
    "#### Write a function so that the columns of the output matrix are powers of the input vector.\n",
    "#### The order of the powers is determined by the increasing boolean argument. Specifically, when increasing is False, the i-th output column is the input vector raised element-wise to the power of N-i-1.\n",
    "#### HINT: Such a matrix with a geometric progression in each row is named for Alexandre Theophile Vandermonde."
   ]
  },
  {
   "cell_type": "code",
   "execution_count": 2,
   "metadata": {},
   "outputs": [],
   "source": [
    "def vand_matrix(arr, n):\n",
    "    vandMatrix = []\n",
    "    m = arr.size\n",
    "    for i in range(1,m):\n",
    "        row = []\n",
    "        for j in range(0,n-1):\n",
    "            row.append (arr[i] ** j)\n",
    "        vandMatrix.append(row)\n",
    "    return (vandMatrix)"
   ]
  },
  {
   "cell_type": "code",
   "execution_count": 3,
   "metadata": {},
   "outputs": [
    {
     "data": {
      "text/plain": [
       "[[1, 20, 400, 8000],\n",
       " [1, 30, 900, 27000],\n",
       " [1, 40, 1600, 64000],\n",
       " [1, 50, 2500, 125000]]"
      ]
     },
     "execution_count": 3,
     "metadata": {},
     "output_type": "execute_result"
    }
   ],
   "source": [
    "list1 = [10, 20, 30, 40, 50]  \n",
    "arr1 = np.array(list1)\n",
    "vand_matrix(arr1, 5)"
   ]
  },
  {
   "cell_type": "markdown",
   "metadata": {},
   "source": [
    "### Problem Statement\n",
    "#### Given a sequence of n values x1, x2,..., xn and a window size k > 0, the k-th moving average of the given sequence is defined as follows:\n",
    "#### The moving average sequence has n-k+1 elements as shown below.\n",
    "#### The moving averages with k = 4 of a ten-value sequence (n=10) is shown below\n",
    "\n",
    "        i        1  2  3  4  5  6  7  8  9  10\n",
    "       -----    --------------------------------\n",
    "       input     10 20 30 40 50 60 70 80 90 100\n",
    "       y1        25 = (10+20+30+40)/4\n",
    "       y2        35 = (20+30+40+50)/4\n",
    "       y3        45 = (30+40+50+60)/4\n",
    "       y4        55 = (40+50+60+70)/4\n",
    "       y5        65 = (50+60+70+80)/4\n",
    "       y6        75 = (60+70+80+90)/4\n",
    "       y7        85 = (70+80+90+100)/4\n",
    "       \n",
    "#### Thus, the moving average sequence has n-k+1 = 10-4+1 = 7 values.\n",
    "\n",
    "### Question:\n",
    "#### Write a function to find moving average in an array over a window:\n",
    "#### Test it over [ 3, 5, 7, 2, 8, 10, 11, 65, 72, 81, 99, 100, 150 ] and window of 3."
   ]
  },
  {
   "cell_type": "code",
   "execution_count": 4,
   "metadata": {},
   "outputs": [],
   "source": [
    "def mov_avg(arr, k):\n",
    "    movAvg = []\n",
    "    n = arr.size\n",
    "    for i in range(0,n-k+1):\n",
    "        s = 0\n",
    "        for j in range(i,i+k):\n",
    "            s += arr[j]\n",
    "        movAvg.append(s/k)\n",
    "    return (movAvg)"
   ]
  },
  {
   "cell_type": "code",
   "execution_count": 5,
   "metadata": {},
   "outputs": [],
   "source": [
    "list2 = [3, 5, 7, 2, 8, 10, 11, 65, 72, 81, 99, 100, 150]\n",
    "arr2 = np.array(list2)\n",
    "k = 3"
   ]
  },
  {
   "cell_type": "code",
   "execution_count": 6,
   "metadata": {},
   "outputs": [
    {
     "data": {
      "text/plain": [
       "[5.0,\n",
       " 4.666666666666667,\n",
       " 5.666666666666667,\n",
       " 6.666666666666667,\n",
       " 9.666666666666666,\n",
       " 28.666666666666668,\n",
       " 49.333333333333336,\n",
       " 72.66666666666667,\n",
       " 84.0,\n",
       " 93.33333333333333,\n",
       " 116.33333333333333]"
      ]
     },
     "execution_count": 6,
     "metadata": {},
     "output_type": "execute_result"
    }
   ],
   "source": [
    "mov_avg(arr2, k)"
   ]
  }
 ],
 "metadata": {
  "kernelspec": {
   "display_name": "Python 3",
   "language": "python",
   "name": "python3"
  },
  "language_info": {
   "codemirror_mode": {
    "name": "ipython",
    "version": 3
   },
   "file_extension": ".py",
   "mimetype": "text/x-python",
   "name": "python",
   "nbconvert_exporter": "python",
   "pygments_lexer": "ipython3",
   "version": "3.8.5"
  }
 },
 "nbformat": 4,
 "nbformat_minor": 4
}
