{
 "cells": [
  {
   "cell_type": "markdown",
   "metadata": {},
   "source": [
    "# Data Cleaning Pandas Assignment"
   ]
  },
  {
   "cell_type": "code",
   "execution_count": 1,
   "metadata": {},
   "outputs": [],
   "source": [
    "import pandas as pd\n",
    "import numpy as np\n",
    "\n",
    "df = pd.DataFrame(\n",
    "    {\n",
    "        'From_To' :['LoNDon_paris', 'MAdrid_miLAN', 'londON_StockhOlm', 'Budapest_PaRis', 'Brussels_londOn'],\n",
    "        'FlightNumber' :[10045, np.nan, 10065, np.nan, 10085],\n",
    "        'RecentDelays' :[[23, 47], [], [24, 43, 87], [13], [67, 32]],\n",
    "        'Airline' :['KLM(!)', '<Air France> (12)', '(British Airways. )', '12. Air France', '\"SwissAir\"']\n",
    "    }\n",
    ")"
   ]
  },
  {
   "cell_type": "markdown",
   "metadata": {},
   "source": [
    "### 1) Some values in the FlightNumber column are missing. These numbers are meant to increase by 10 with each row so 10055 and 10075 need to be put in place. Fill in these missing numbers and make the column an integer column (instead of a float column)."
   ]
  },
  {
   "cell_type": "code",
   "execution_count": 2,
   "metadata": {},
   "outputs": [
    {
     "name": "stdout",
     "output_type": "stream",
     "text": [
      "            From_To  FlightNumber  RecentDelays              Airline\n",
      "0      LoNDon_paris         10045      [23, 47]               KLM(!)\n",
      "1      MAdrid_miLAN         10055            []    <Air France> (12)\n",
      "2  londON_StockhOlm         10065  [24, 43, 87]  (British Airways. )\n",
      "3    Budapest_PaRis         10075          [13]       12. Air France\n",
      "4   Brussels_londOn         10085      [67, 32]           \"SwissAir\"\n"
     ]
    }
   ],
   "source": [
    "df[\"FlightNumber\"].fillna(10055, limit=1, inplace=True)\n",
    "df[\"FlightNumber\"].fillna(10075, limit=1, inplace=True)\n",
    "df[\"FlightNumber\"] = df[\"FlightNumber\"].astype(int)  \n",
    "print(df.to_string())"
   ]
  },
  {
   "cell_type": "markdown",
   "metadata": {},
   "source": [
    "### 2) The From_To column would be better as two separate columns! Split each string on the underscore delimiter _ to give a new temporary DataFrame with the correct values. Assign the correct column names to this temporary DataFrame."
   ]
  },
  {
   "cell_type": "code",
   "execution_count": 3,
   "metadata": {},
   "outputs": [
    {
     "name": "stdout",
     "output_type": "stream",
     "text": [
      "       From         To\n",
      "0    LoNDon      paris\n",
      "1    MAdrid      miLAN\n",
      "2    londON  StockhOlm\n",
      "3  Budapest      PaRis\n",
      "4  Brussels     londOn\n"
     ]
    }
   ],
   "source": [
    "temp = pd.DataFrame({'From':[], 'To':[]})\n",
    "temp[['From','To']] = df['From_To'].str.split(\"_\",expand=True)\n",
    "print(temp.to_string())"
   ]
  },
  {
   "cell_type": "markdown",
   "metadata": {},
   "source": [
    "### 3) Notice how the capitalisation of the city names is all mixed up in this temporary DataFrame. Standardise the strings so that only the first letter is uppercase (e.g. \"londON\" should become \"London\")."
   ]
  },
  {
   "cell_type": "code",
   "execution_count": 5,
   "metadata": {},
   "outputs": [
    {
     "name": "stdout",
     "output_type": "stream",
     "text": [
      "            From_To  FlightNumber  RecentDelays              Airline\n",
      "0      London_Paris         10045      [23, 47]               KLM(!)\n",
      "1      Madrid_Milan         10055            []    <Air France> (12)\n",
      "2  London_Stockholm         10065  [24, 43, 87]  (British Airways. )\n",
      "3    Budapest_Paris         10075          [13]       12. Air France\n",
      "4   Brussels_London         10085      [67, 32]           \"SwissAir\"\n"
     ]
    }
   ],
   "source": [
    "df['From_To'] = df['From_To'].str.title()\n",
    "print(df.to_string())"
   ]
  },
  {
   "cell_type": "markdown",
   "metadata": {},
   "source": [
    "### 4) Delete the From_To column from df and attach the temporary DataFrame from the previous question."
   ]
  },
  {
   "cell_type": "code",
   "execution_count": 4,
   "metadata": {},
   "outputs": [
    {
     "name": "stdout",
     "output_type": "stream",
     "text": [
      "   FlightNumber  RecentDelays              Airline      From         To\n",
      "0         10045      [23, 47]               KLM(!)    LoNDon      paris\n",
      "1         10055            []    <Air France> (12)    MAdrid      miLAN\n",
      "2         10065  [24, 43, 87]  (British Airways. )    londON  StockhOlm\n",
      "3         10075          [13]       12. Air France  Budapest      PaRis\n",
      "4         10085      [67, 32]           \"SwissAir\"  Brussels     londOn\n"
     ]
    }
   ],
   "source": [
    "df.drop(['From_To'], axis=1, inplace=True)\n",
    "df[['From','To']] = temp\n",
    "print(df.to_string())"
   ]
  },
  {
   "cell_type": "markdown",
   "metadata": {},
   "source": [
    "### 5) In the RecentDelays column, the values have been entered into the DataFrame as a list. We would like each first value in its own column, each second value in its own column, and so on. If there isn't an Nth value, the value should be NaN.\n",
    "\n",
    "### Expand the Series of lists into a DataFrame named delays, rename the columns delay_1, delay_2, etc. and replace the unwanted RecentDelays column in df with delays."
   ]
  },
  {
   "cell_type": "code",
   "execution_count": 5,
   "metadata": {},
   "outputs": [
    {
     "name": "stdout",
     "output_type": "stream",
     "text": [
      "   FlightNumber  delay_1  delay_2  delay_3              Airline      From         To\n",
      "0         10045     23.0     47.0      NaN               KLM(!)    LoNDon      paris\n",
      "1         10055      NaN      NaN      NaN    <Air France> (12)    MAdrid      miLAN\n",
      "2         10065     24.0     43.0     87.0  (British Airways. )    londON  StockhOlm\n",
      "3         10075     13.0      NaN      NaN       12. Air France  Budapest      PaRis\n",
      "4         10085     67.0     32.0      NaN           \"SwissAir\"  Brussels     londOn\n"
     ]
    }
   ],
   "source": [
    "Delay = pd.DataFrame({'delay_1': [], 'delay_2': [], 'delay_3': []})\n",
    "for x in df['RecentDelays']:\n",
    "    diff = 3 - len(x)\n",
    "    for i in range(diff):\n",
    "        x.append(np.nan)\n",
    "    Delay = Delay.append({'delay_1': x[0], 'delay_2': x[1], 'delay_3': x[2]}, ignore_index=True)\n",
    "\n",
    "df.drop(['RecentDelays'], axis=1, inplace=True)\n",
    "df.insert(1, \"delay_1\", Delay['delay_1'], True)\n",
    "df.insert(2, \"delay_2\", Delay['delay_2'], True)\n",
    "df.insert(3, \"delay_3\", Delay['delay_3'], True)\n",
    "print(df.to_string())"
   ]
  }
 ],
 "metadata": {
  "kernelspec": {
   "display_name": "Python 3",
   "language": "python",
   "name": "python3"
  },
  "language_info": {
   "codemirror_mode": {
    "name": "ipython",
    "version": 3
   },
   "file_extension": ".py",
   "mimetype": "text/x-python",
   "name": "python",
   "nbconvert_exporter": "python",
   "pygments_lexer": "ipython3",
   "version": "3.8.5"
  }
 },
 "nbformat": 4,
 "nbformat_minor": 4
}
