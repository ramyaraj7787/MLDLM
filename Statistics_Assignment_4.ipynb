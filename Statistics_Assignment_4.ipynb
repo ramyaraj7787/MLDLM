{
 "cells": [
  {
   "cell_type": "markdown",
   "id": "ff1f7a0a",
   "metadata": {},
   "source": [
    "#### Importing Libraries"
   ]
  },
  {
   "cell_type": "code",
   "execution_count": 1,
   "id": "8977692c",
   "metadata": {},
   "outputs": [],
   "source": [
    "import scipy.stats as sts\n",
    "from scipy.stats import norm\n",
    "import math\n",
    "import numpy as np\n",
    "import pandas as pd"
   ]
  },
  {
   "cell_type": "markdown",
   "id": "0dc4d847",
   "metadata": {},
   "source": [
    "### Problem Statement 1:\n",
    "Is gender independent of education level? A random sample of 395 people were\n",
    "surveyed and each person was asked to report the highest education level they\n",
    "obtained. The data that resulted from the survey is summarized in the following table:<br>\n",
    "\n",
    "            High School  Bachelors Masters Ph.d. Total\n",
    "    Female  60           54        46      41    201\n",
    "    Male    40           44        53      57    194\n",
    "    Total   100          98        99      98    395\n",
    "\n",
    "Question: Are gender and education level dependent at 5% level of significance? In\n",
    "other words, given the data collected above, is there a relationship between the\n",
    "gender of an individual and the level of education that they have obtained?"
   ]
  },
  {
   "cell_type": "code",
   "execution_count": 2,
   "id": "81fed4a4",
   "metadata": {},
   "outputs": [
    {
     "name": "stdout",
     "output_type": "stream",
     "text": [
      "        High School  Bachelors  Masters  Ph.d  Total\n",
      "Female           60         54       46    41    201\n",
      "Male             40         44       53    57    194\n",
      "Total           100         98       99    98    395\n"
     ]
    }
   ],
   "source": [
    "data = {\"High School\" : [60, 40, 100],\n",
    "        \"Bachelors\" : [54, 44, 98],\n",
    "        \"Masters\" : [46, 53, 99],\n",
    "        \"Ph.d\" : [41, 57, 98],\n",
    "        \"Total\" : [201, 194, 395]\n",
    "}\n",
    "index = [\"Female\", \"Male\", \"Total\"]\n",
    "df = pd.DataFrame(data, index = index)\n",
    "print(df)"
   ]
  },
  {
   "cell_type": "code",
   "execution_count": 3,
   "id": "559df6d0",
   "metadata": {},
   "outputs": [
    {
     "name": "stdout",
     "output_type": "stream",
     "text": [
      "Chi Square value for degree of freedom 3 =  0.35184631774927144\n"
     ]
    }
   ],
   "source": [
    "alpha = 0.05 #Significance Level\n",
    "\n",
    "#degree of freedom is 1 less than number of categories.\n",
    "dof = 3\n",
    "\n",
    "#Chi Square value for degree of freedom 3.\n",
    "chi2 = sts.chi2.ppf(alpha, dof)\n",
    "print(\"Chi Square value for degree of freedom 3 = \",chi2)"
   ]
  },
  {
   "cell_type": "code",
   "execution_count": 4,
   "id": "1df1a663",
   "metadata": {},
   "outputs": [
    {
     "name": "stdout",
     "output_type": "stream",
     "text": [
      "17.688483644789503\n"
     ]
    }
   ],
   "source": [
    "#Calculated Test statitics\n",
    "\n",
    "X2 = 0\n",
    "for i in range(0,4):\n",
    "    X2 = X2 + ((df.iat[0,i]-df.iat[1,i])**2)/df.iat[1,i]\n",
    "print(X2)"
   ]
  },
  {
   "cell_type": "code",
   "execution_count": 5,
   "id": "6bd6f6db",
   "metadata": {},
   "outputs": [
    {
     "name": "stdout",
     "output_type": "stream",
     "text": [
      "Calulated Chi Square > Expected Chi Square\n",
      "So, we reject the Null Hypothesis.\n",
      "Therefore, there is a relationship between the gender of an individual and the level of education that they have obtained.\n"
     ]
    }
   ],
   "source": [
    "print(\"Calulated Chi Square > Expected Chi Square\")\n",
    "print(\"So, we reject the Null Hypothesis.\")\n",
    "print(\"Therefore, there is a relationship between the gender of an individual and the level of education that they have obtained.\")"
   ]
  },
  {
   "cell_type": "markdown",
   "id": "f74ca1a7",
   "metadata": {},
   "source": [
    "### Problem Statement 2:\n",
    "Using the following data, perform a oneway analysis of variance using α=.05. Write\n",
    "up the results in APA format. <br>\n",
    "[Group1: 51, 45, 33, 45, 67] <br>\n",
    "[Group2: 23, 43, 23, 43, 45] <br>\n",
    "[Group3: 56, 76, 74, 87, 56]"
   ]
  },
  {
   "cell_type": "code",
   "execution_count": 6,
   "id": "76f6c4d1",
   "metadata": {},
   "outputs": [
    {
     "name": "stdout",
     "output_type": "stream",
     "text": [
      "F Statistic value 9.747205503009463 , p-value 0.0030597541434430556\n",
      "True\n"
     ]
    }
   ],
   "source": [
    "Group1 = [51, 45, 33, 45, 67]\n",
    "Group2 = [23, 43, 23, 43, 45]\n",
    "Group3 = [56, 76, 74, 87, 56]\n",
    "\n",
    "# Perform the ANOVA\n",
    "statistic, pvalue = sts.f_oneway(Group1,Group2,Group3)\n",
    "print(\"F Statistic value {} , p-value {}\".format(statistic,pvalue))\n",
    "if pvalue < 0.05:\n",
    "    print('True')\n",
    "else:\n",
    "    print('False')"
   ]
  },
  {
   "cell_type": "markdown",
   "id": "aac79ecd",
   "metadata": {},
   "source": [
    "Note: The test result suggests the groups don't have the same sample means in this case, since the p-value is significant at a 99% confidence level. Here the p-value returned is 0.00305 which is < 0.05"
   ]
  },
  {
   "cell_type": "markdown",
   "id": "83e6cc8e",
   "metadata": {},
   "source": [
    "### Problem Statement 3:\n",
    "Calculate F Test for given 10, 20, 30, 40, 50 and 5,10,15, 20, 25.<br>\n",
    "For 10, 20, 30, 40, 50:"
   ]
  },
  {
   "cell_type": "code",
   "execution_count": 7,
   "id": "31178ea5",
   "metadata": {},
   "outputs": [
    {
     "data": {
      "text/plain": [
       "F_onewayResult(statistic=3.6, pvalue=0.0943497728424377)"
      ]
     },
     "execution_count": 7,
     "metadata": {},
     "output_type": "execute_result"
    }
   ],
   "source": [
    "sts.f_oneway([10, 20, 30, 40, 50],[5,10,15, 20, 25])"
   ]
  },
  {
   "cell_type": "code",
   "execution_count": 8,
   "id": "914e115b",
   "metadata": {},
   "outputs": [
    {
     "name": "stdout",
     "output_type": "stream",
     "text": [
      "F Test for given 10, 20, 30, 40, 50 and 5, 10, 15, 20, 25 is :  4.0\n"
     ]
    }
   ],
   "source": [
    "Group1 = [10, 20, 30, 40, 50]\n",
    "Group2 = [5,10,15, 20, 25]\n",
    "\n",
    "mean_1 = np.mean(Group1)\n",
    "mean_2 = np.mean(Group2)\n",
    "\n",
    "grp1_sub_mean1 = []\n",
    "grp2_sub_mean2 = []\n",
    "add1 = 0\n",
    "add2 = 0\n",
    "for items in Group1:\n",
    "    add1 += (items - mean_1)**2\n",
    "for items in Group2:\n",
    "    add2 += (items - mean_2)**2\n",
    "var1 = add1/(len(Group1)-1)\n",
    "var2 = add2/(len(Group2)-1)\n",
    "\n",
    "F_Test = var1/var2\n",
    "print(\"F Test for given 10, 20, 30, 40, 50 and 5, 10, 15, 20, 25 is : \", F_Test)"
   ]
  }
 ],
 "metadata": {
  "kernelspec": {
   "display_name": "Python 3 (ipykernel)",
   "language": "python",
   "name": "python3"
  },
  "language_info": {
   "codemirror_mode": {
    "name": "ipython",
    "version": 3
   },
   "file_extension": ".py",
   "mimetype": "text/x-python",
   "name": "python",
   "nbconvert_exporter": "python",
   "pygments_lexer": "ipython3",
   "version": "3.9.7"
  }
 },
 "nbformat": 4,
 "nbformat_minor": 5
}
