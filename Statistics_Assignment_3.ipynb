{
 "cells": [
  {
   "cell_type": "markdown",
   "id": "467a670d",
   "metadata": {},
   "source": [
    "#### Importing Libraries"
   ]
  },
  {
   "cell_type": "code",
   "execution_count": 3,
   "id": "45e61b27",
   "metadata": {},
   "outputs": [],
   "source": [
    "import scipy.stats as sts\n",
    "from scipy.stats import norm\n",
    "import math\n",
    "import numpy as np"
   ]
  },
  {
   "cell_type": "markdown",
   "id": "a61a2379",
   "metadata": {},
   "source": [
    "### Problem Statement 1:\n",
    "Blood glucose levels for obese patients have a mean of 100 with a standard deviation of 15. A researcher thinks that a diet high in raw cornstarch will have a positive effect on blood glucose levels. A sample of 36 patients who have tried the raw cornstarch diet have a mean glucose level of 108. Test the hypothesis that the raw cornstarch had an effect or not."
   ]
  },
  {
   "cell_type": "code",
   "execution_count": 1,
   "id": "24f2a31c",
   "metadata": {},
   "outputs": [
    {
     "name": "stdout",
     "output_type": "stream",
     "text": [
      "Null hypothesis: Mean of population after the diet = Mean of population before the diet.\n",
      "Alternative hypothesis: Mean of population after the diet != Mean of population beofe the diet.\n"
     ]
    }
   ],
   "source": [
    "print(\"Null hypothesis: Mean of population after the diet = Mean of population before the diet.\")\n",
    "print(\"Alternative hypothesis: Mean of population after the diet != Mean of population beofe the diet.\")"
   ]
  },
  {
   "cell_type": "code",
   "execution_count": 5,
   "id": "4dedc6a5",
   "metadata": {},
   "outputs": [
    {
     "name": "stdout",
     "output_type": "stream",
     "text": [
      "Z score =  3.2\n",
      "Confidence Interval is -1.9599639845400545  to  1.9599639845400545\n"
     ]
    }
   ],
   "source": [
    "pop_mean = 100\n",
    "pop_std = 15\n",
    "n = 36\n",
    "sample_mean = 108\n",
    "alpha = 0.05\n",
    "\n",
    "SE = pop_std/n**0.5\n",
    "Z = (sample_mean-pop_mean)/SE\n",
    "CI = norm.ppf(alpha/2)\n",
    "\n",
    "print(\"Z score = \", Z)\n",
    "print(\"Confidence Interval is\", CI , \" to \", -CI)"
   ]
  },
  {
   "cell_type": "code",
   "execution_count": 6,
   "id": "31c202ba",
   "metadata": {},
   "outputs": [
    {
     "name": "stdout",
     "output_type": "stream",
     "text": [
      "Z score does not fall between the confidence interval.\n",
      "So, we can reject the Null Hypothesis.\n",
      "Therefore, we can conclude that the raw cornstarch had an effect.\n"
     ]
    }
   ],
   "source": [
    "print(\"Z score does not fall between the confidence interval.\")\n",
    "print(\"So, we can reject the Null Hypothesis.\")\n",
    "print(\"Therefore, we can conclude that the raw cornstarch had an effect.\")"
   ]
  },
  {
   "cell_type": "markdown",
   "id": "ffde3d0b",
   "metadata": {},
   "source": [
    "### Problem Statement 2:\n",
    "In one state, 52% of the voters are Republicans, and 48% are Democrats. In a second state, 47% of the voters are Republicans, and 53% are Democrats. Suppose a simple random sample of 100 voters are surveyed from each state.<br>\n",
    "What is the probability that the survey will show a greater percentage of Republican voters in the second state than in the first state?"
   ]
  },
  {
   "cell_type": "code",
   "execution_count": 3,
   "id": "187a3427",
   "metadata": {},
   "outputs": [
    {
     "name": "stdout",
     "output_type": "stream",
     "text": [
      "mu: 0.050000000000000044\n",
      "std: 0.07061869440877536\n",
      "Z_p1_p2 : -0.7080278164104213\n"
     ]
    }
   ],
   "source": [
    "n1 = 100\n",
    "n2 = 100\n",
    "R1 = 0.52            #Republicans from state 1\n",
    "D1 = 0.48            #Democrats from state 1\n",
    "R2 = 0.47            #Republicans from state 2\n",
    "D2 = 0.53            #Democrats from state 2\n",
    "\n",
    "mu = R1 - R2\n",
    "std = math.sqrt(((R1 * D1 ) / n1) + ((R2 * D2) /n2))\n",
    "\n",
    "print(\"Mean = \", mu)\n",
    "print(\"Standard Deviation = \", std)\n",
    "\n",
    "#This problem requires us to find the probability that p1 is less than p2. \n",
    "#This is equivalent to finding the probability that R1 - R2 < 0. \n",
    "x = 0\n",
    "\n",
    "\n",
    "#To find this probability, we need to transform the random variable (R1 - R2) into a z-score. \n",
    "Z = ( x - mu)/std\n",
    "print(\"Z Score = \", Z)"
   ]
  },
  {
   "cell_type": "code",
   "execution_count": 9,
   "id": "bf6ef216",
   "metadata": {},
   "outputs": [
    {
     "name": "stdout",
     "output_type": "stream",
     "text": [
      "From Z table we find that the probability of a z-score being -0.7082 or less is 0.24.\n",
      "Therefore, the probability that the survey will show a greater percentage of Republican voters in the second state than in the first state is 0.24\n"
     ]
    }
   ],
   "source": [
    "print(\"From Z table we find that the probability of a z-score being -0.7082 or less is 0.24.\")\n",
    "print(\"Therefore, the probability that the survey will show a greater percentage of Republican voters in the second state than in the first state is 0.24\")"
   ]
  },
  {
   "cell_type": "markdown",
   "id": "e78a9e30",
   "metadata": {},
   "source": [
    "### Problem Statement 3:\n",
    "You take the SAT and score 1100. The mean score for the SAT is 1026 and the standard\n",
    "deviation is 209. How well did you score on the test compared to the average test taker?"
   ]
  },
  {
   "cell_type": "code",
   "execution_count": 8,
   "id": "cb7f0080",
   "metadata": {},
   "outputs": [
    {
     "name": "stdout",
     "output_type": "stream",
     "text": [
      "Z Score =  0.35406698564593303\n",
      "My Score is in the range 817 - 1235  with an  z score of 0.35\n"
     ]
    }
   ],
   "source": [
    "#The z score tells you how many standard deviations from the mean your score is\n",
    "\n",
    "x = 1100 \n",
    "mu = 1026 #Population Mean\n",
    "std = 209 #Population standard deviation\n",
    "z = ( x - mu)/std\n",
    "\n",
    "print(\"Z Score = \", z)\n",
    "#the above calculation shows that my score is 0.35 standard deviations above the mean\n",
    "print(\"My Score is in the range {} - {}  with an  z score of {:.2f}\".format(mu - std,mu + std, z))"
   ]
  },
  {
   "cell_type": "code",
   "execution_count": null,
   "id": "83d232ce",
   "metadata": {},
   "outputs": [],
   "source": []
  }
 ],
 "metadata": {
  "kernelspec": {
   "display_name": "Python 3 (ipykernel)",
   "language": "python",
   "name": "python3"
  },
  "language_info": {
   "codemirror_mode": {
    "name": "ipython",
    "version": 3
   },
   "file_extension": ".py",
   "mimetype": "text/x-python",
   "name": "python",
   "nbconvert_exporter": "python",
   "pygments_lexer": "ipython3",
   "version": "3.9.7"
  }
 },
 "nbformat": 4,
 "nbformat_minor": 5
}
