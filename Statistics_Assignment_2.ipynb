{
 "cells": [
  {
   "cell_type": "code",
   "execution_count": 1,
   "id": "a7854541",
   "metadata": {},
   "outputs": [],
   "source": [
    "#Importing Libraries\n",
    "\n",
    "from scipy.stats import norm\n",
    "import numpy as np\n",
    "import math\n",
    "import scipy.stats as stats\n",
    "from scipy.stats import chi2_contingency"
   ]
  },
  {
   "cell_type": "markdown",
   "id": "2ffe6c46",
   "metadata": {},
   "source": [
    "### Problem Statement 1:\n",
    "In each of the following situations, state whether it is a correctly stated hypothesis testing problem and why? <br>\n",
    "    1. 𝐻0: 𝜇 = 25, 𝐻1: 𝜇 ≠ 25 <br>\n",
    "    2. 𝐻0: 𝜎 > 10, 𝐻1: 𝜎 = 10 <br>\n",
    "    3. 𝐻0: 𝑥 = 50, 𝐻1: 𝑥 ≠ 50 <br>\n",
    "    4. 𝐻0: 𝑝 = 0.1, 𝐻1: 𝑝 = 0.5 <br>\n",
    "    5. 𝐻0: 𝑠 = 30, 𝐻1: 𝑠 > 30 <br>"
   ]
  },
  {
   "cell_type": "markdown",
   "id": "8bffa713",
   "metadata": {},
   "source": [
    "#### Answer:"
   ]
  },
  {
   "cell_type": "markdown",
   "id": "a886b2f4",
   "metadata": {},
   "source": [
    "1) Yes, because the values in both the statements are about population. Also, null hypothesis has equality claim and alternative hypothesis has inequality claim with same value. <br>\n",
    "2) No, because both null hypothesis and alternate hypothesis have an equality and there is no inequality claim in the statements given.<br>\n",
    "3) No, because hypothesis is stated in terms of statistics and not sample data.<br>\n",
    "4) No, because values in both hypothesis is different and has equal sign.<br>\n",
    "5) No, because hypothesis is always statements about population or distribution and not about sample.<br>"
   ]
  },
  {
   "cell_type": "markdown",
   "id": "1df075bc",
   "metadata": {},
   "source": [
    "### Problem Statement 2:\n",
    "The college bookstore tells prospective students that the average cost of its textbooks is Rs. 52 with a standard deviation of Rs. 4.50. A group of smart statistics students thinks that the average cost is higher. To test the bookstore’s claim against their alternative, the students will select a random sample of size 100. Assume that the mean from their random sample is Rs. 52.80. Perform a hypothesis test at the 5% level of significance and state your decision."
   ]
  },
  {
   "cell_type": "code",
   "execution_count": 2,
   "id": "9964f747",
   "metadata": {},
   "outputs": [
    {
     "name": "stdout",
     "output_type": "stream",
     "text": [
      "Null hypothesis: Population mean of new sample = 52\n",
      "Alternative hypothesis: Population mean of new sample != 52\n"
     ]
    }
   ],
   "source": [
    "print(\"Null hypothesis: Population mean of new sample = 52\")\n",
    "print(\"Alternative hypothesis: Population mean of new sample != 52\")"
   ]
  },
  {
   "cell_type": "code",
   "execution_count": 3,
   "id": "eddfce0a",
   "metadata": {},
   "outputs": [
    {
     "name": "stdout",
     "output_type": "stream",
     "text": [
      "Z score =  1.7777777777777715\n",
      "Confidence Interval is -1.9599639845400545  to  1.9599639845400545\n"
     ]
    }
   ],
   "source": [
    "pop_mean = 52\n",
    "pop_std = 4.50\n",
    "n = 100\n",
    "sample_mean = 52.80\n",
    "alpha=0.05\n",
    "\n",
    "SE = pop_std/n**0.5\n",
    "Z = (sample_mean-pop_mean)/SE\n",
    "CI = norm.ppf(alpha/2)\n",
    "\n",
    "print(\"Z score = \", Z)\n",
    "print(\"Confidence Interval is\", CI , \" to \", -CI)"
   ]
  },
  {
   "cell_type": "code",
   "execution_count": 4,
   "id": "d1f140a2",
   "metadata": {},
   "outputs": [
    {
     "name": "stdout",
     "output_type": "stream",
     "text": [
      "Z score falls between the confidence interval.\n",
      "So, we can conclude that the Null hypothesis is true.\n",
      "Therefore, the average cost of the textbook claimed by the bookstore is correct.\n"
     ]
    }
   ],
   "source": [
    "print(\"Z score falls between the confidence interval.\")\n",
    "print(\"So, we can conclude that the Null hypothesis is true.\")\n",
    "print(\"Therefore, the average cost of the textbook claimed by the bookstore is correct.\")"
   ]
  },
  {
   "cell_type": "markdown",
   "id": "6ab428e2",
   "metadata": {},
   "source": [
    "### Problem Statement 3:\n",
    "A certain chemical pollutant in the Genesee River has been constant for several years with mean μ = 34 ppm (parts per million) and standard deviation σ = 8 ppm. A group of factory representatives whose companies discharge liquids into the river is now claiming that they have lowered the average with improved filtration devices. A group of environmentalists will test to see if this is true at the 1% level of significance. Assume that their sample of size 50 gives a mean of 32.5 ppm. Perform a hypothesis test at the 1% level of significance and state your decision."
   ]
  },
  {
   "cell_type": "code",
   "execution_count": 5,
   "id": "d83ef133",
   "metadata": {},
   "outputs": [
    {
     "name": "stdout",
     "output_type": "stream",
     "text": [
      "Null hypothesis: Population mean of new sample = 34 ppm\n",
      "Alternative hypothesis: Population mean of new sample != 34 ppm\n"
     ]
    }
   ],
   "source": [
    "print(\"Null hypothesis: Population mean of new sample = 34 ppm\")\n",
    "print(\"Alternative hypothesis: Population mean of new sample != 34 ppm\")"
   ]
  },
  {
   "cell_type": "code",
   "execution_count": 6,
   "id": "436f3c2f",
   "metadata": {},
   "outputs": [
    {
     "name": "stdout",
     "output_type": "stream",
     "text": [
      "Z score =  -17.235727791422097\n",
      "Confidence Interval is -2.575829303548901  to  2.575829303548901\n"
     ]
    }
   ],
   "source": [
    "Zop_mean = 34\n",
    "pop_std = 8\n",
    "n = 50\n",
    "sample_mean = 32.5\n",
    "alpha=0.01\n",
    "\n",
    "SE = pop_std/n**0.5\n",
    "Z = (sample_mean-pop_mean)/SE\n",
    "CI = norm.ppf(alpha/2)\n",
    "\n",
    "print(\"Z score = \", Z)\n",
    "print(\"Confidence Interval is\", CI , \" to \", -CI)"
   ]
  },
  {
   "cell_type": "code",
   "execution_count": 7,
   "id": "75dcd2db",
   "metadata": {},
   "outputs": [
    {
     "name": "stdout",
     "output_type": "stream",
     "text": [
      "Z score falls between the confidence interval.\n",
      "So, we can conclude that the Null hypothesis is true.\n",
      "Therefore, the average of the chemical pollutant in the Genesee River has not been lowered.\n"
     ]
    }
   ],
   "source": [
    "print(\"Z score falls between the confidence interval.\")\n",
    "print(\"So, we can conclude that the Null hypothesis is true.\")\n",
    "print(\"Therefore, the average of the chemical pollutant in the Genesee River has not been lowered.\")"
   ]
  },
  {
   "cell_type": "markdown",
   "id": "4d9c8768",
   "metadata": {},
   "source": [
    "### Problem Statement 4:\n",
    "Based on population figures and other general information on the U.S. population, suppose it has been estimated that, on average, a family of four in the U.S. spends about $1135 annually on dental expenditures. Suppose further that a regional dental association wants to test to determine if this figure is accurate for their area of country. To test this, 22 families of 4 are randomly selected from the population in that area of the country and a log is kept of the family’s dental expenditure for one year. The resulting data are given below. Assuming, that dental expenditure is normally distributed in the population, use the data and an alpha of 0.5 to test the dental association’s hypothesis. <br>\n",
    "1008, 812, 1117, 1323, 1308, 1415, 831, 1021, 1287, 851, 930, 730, 699, 872, 913, 944, 954, 987, 1695, 995, 1003, 994"
   ]
  },
  {
   "cell_type": "code",
   "execution_count": 8,
   "id": "5dcb5e57",
   "metadata": {},
   "outputs": [
    {
     "name": "stdout",
     "output_type": "stream",
     "text": [
      "Null hypothesis: Population mean of new sample = $1135\n",
      "Alternative hypothesis: Population mean of new sample != $1135\n"
     ]
    }
   ],
   "source": [
    "print(\"Null hypothesis: Population mean of new sample = $1135\")\n",
    "print(\"Alternative hypothesis: Population mean of new sample != $1135\")"
   ]
  },
  {
   "cell_type": "code",
   "execution_count": 9,
   "id": "fbcaf311",
   "metadata": {},
   "outputs": [
    {
     "name": "stdout",
     "output_type": "stream",
     "text": [
      "T Score is  -2.070747228595759\n",
      "Critical Region is  -0.6863519891164291  to  0.6863519891164291\n"
     ]
    }
   ],
   "source": [
    "given_data=[1008, 812, 1117, 1323, 1308, 1415, 831, 1021, 1287, 851, 930, 730, 699, 872, 913, 944, 954, 987, 1695, 995, 1003, 994]\n",
    "pop_mean =1135\n",
    "sample_std = np.std(given_data)\n",
    "n=22\n",
    "alpha = 0.5\n",
    "\n",
    "sample_mean = np.sum(given_data,axis=0)/len(given_data)\n",
    "SE = sample_std/n**0.5\n",
    "test1 = (sample_mean-pop_mean)/SE\n",
    "CI_min = stats.t.ppf((alpha/2),df=21)\n",
    "CI_max = stats.t.ppf(1-(alpha/2),df=21)\n",
    "\n",
    "print(\"T Score is \", test1)\n",
    "print(\"Critical Region is \", CI_min , \" to \", CI_max )"
   ]
  },
  {
   "cell_type": "code",
   "execution_count": 10,
   "id": "76b03ed0",
   "metadata": {},
   "outputs": [
    {
     "name": "stdout",
     "output_type": "stream",
     "text": [
      "T score does not fall between the confidence interval.\n",
      "So, we can reject the Null Hypothesis.\n",
      "Therefore, the average dental expenditure of the given region is not $1135.\n"
     ]
    }
   ],
   "source": [
    "print(\"T score does not fall between the confidence interval.\")\n",
    "print(\"So, we can reject the Null Hypothesis.\")\n",
    "print(\"Therefore, the average dental expenditure of the given region is not $1135.\")"
   ]
  },
  {
   "cell_type": "markdown",
   "id": "67737785",
   "metadata": {},
   "source": [
    "### Problem Statement 5:\n",
    "In a report prepared by the Economic Research Department of a major bank the Department manager maintains that the average annual family income on Metropolis is 48432. What do you conclude about the validity of the report if a random sample of 400 families shows and average income of 48,574 with a standard deviation of 2000?"
   ]
  },
  {
   "cell_type": "code",
   "execution_count": 11,
   "id": "7443a631",
   "metadata": {},
   "outputs": [
    {
     "name": "stdout",
     "output_type": "stream",
     "text": [
      "Null hypothesis: Population mean of new sample = 48432\n",
      "Alternative hypothesis: Population mean of new sample != 48432\n"
     ]
    }
   ],
   "source": [
    "print(\"Null hypothesis: Population mean of new sample = 48432\")\n",
    "print(\"Alternative hypothesis: Population mean of new sample != 48432\")"
   ]
  },
  {
   "cell_type": "code",
   "execution_count": 12,
   "id": "33adbc5f",
   "metadata": {},
   "outputs": [
    {
     "name": "stdout",
     "output_type": "stream",
     "text": [
      "Z score =  1.42\n",
      "Confidence Interval is -1.9599639845400545  to  1.9599639845400545\n"
     ]
    }
   ],
   "source": [
    "pop_mean = 48432\n",
    "pop_std = 2000\n",
    "n =400\n",
    "sample_mean =48574\n",
    "alpha=0.05\n",
    "\n",
    "SE = pop_std/n**0.5\n",
    "Z = (sample_mean-pop_mean)/SE\n",
    "CI = norm.ppf(alpha/2)\n",
    "\n",
    "print(\"Z score = \", Z)\n",
    "print(\"Confidence Interval is\", CI , \" to \", -CI)"
   ]
  },
  {
   "cell_type": "code",
   "execution_count": 13,
   "id": "e7e8753c",
   "metadata": {},
   "outputs": [
    {
     "name": "stdout",
     "output_type": "stream",
     "text": [
      "Z score falls between the confidence interval.\n",
      "So, we can conclude that the Null hypothesis is true.\n",
      "Therefore, the report prepared by the Economic Research Department of the bank is correct.\n"
     ]
    }
   ],
   "source": [
    "print(\"Z score falls between the confidence interval.\")\n",
    "print(\"So, we can conclude that the Null hypothesis is true.\")\n",
    "print(\"Therefore, the report prepared by the Economic Research Department of the bank is correct.\")"
   ]
  },
  {
   "cell_type": "markdown",
   "id": "3244df71",
   "metadata": {},
   "source": [
    "### Problem Statement 6:\n",
    "Suppose that in past years the average price per square foot for warehouses in the United States has been 32.28. A national real estate investor wants to determine whether that figure has changed now. The investor hires a researcher who randomly samples 19 warehouses that are for sale across the United States and finds that the mean price per square foot is 31.67, with a standard deviation of 1.29. assume that the prices of warehouse footage are normally distributed in population. If the researcher uses a 5% level of significance, what statistical conclusion can be reached? What are the hypotheses?"
   ]
  },
  {
   "cell_type": "code",
   "execution_count": 14,
   "id": "de5a17f2",
   "metadata": {},
   "outputs": [
    {
     "name": "stdout",
     "output_type": "stream",
     "text": [
      "Null hypothesis: Population mean of new sample = 32.28\n",
      "Alternative hypothesis: Population mean of new sample != 32.28\n"
     ]
    }
   ],
   "source": [
    "print(\"Null hypothesis: Population mean of new sample = 32.28\")\n",
    "print(\"Alternative hypothesis: Population mean of new sample != 32.28\")"
   ]
  },
  {
   "cell_type": "code",
   "execution_count": 15,
   "id": "94ca3768",
   "metadata": {},
   "outputs": [
    {
     "name": "stdout",
     "output_type": "stream",
     "text": [
      "T score =  -2.1\n",
      "Confidence Interval is from  -2.1  to  2.1\n"
     ]
    }
   ],
   "source": [
    "pop_mean = 32.28\n",
    "n = 19\n",
    "sample_mean = 31.67\n",
    "sample_std = 1.29\n",
    "alpha = 0.05\n",
    "\n",
    "SE = sample_std/(n**0.5)\n",
    "t = (sample_mean-pop_mean)/SE\n",
    "CI = round(stats.t.ppf((alpha/2),df=18),1)\n",
    "\n",
    "print(\"T score = \", round((t),1))\n",
    "print(\"Confidence Interval is from \", CI , \" to \", -CI)"
   ]
  },
  {
   "cell_type": "code",
   "execution_count": 16,
   "id": "a9b29903",
   "metadata": {},
   "outputs": [
    {
     "name": "stdout",
     "output_type": "stream",
     "text": [
      "T score falls between the confidence interval.\n",
      "So, we can conclude that the Null hypothesis is true.\n",
      "Therefore, the average price per square foot for warehouses in the United States has not been changed now.\n"
     ]
    }
   ],
   "source": [
    "print(\"T score falls between the confidence interval.\")\n",
    "print(\"So, we can conclude that the Null hypothesis is true.\")\n",
    "print(\"Therefore, the average price per square foot for warehouses in the United States has not been changed now.\")"
   ]
  },
  {
   "attachments": {
    "image.png": {
     "image/png": "[encoded data removed]"
    }
   },
   "cell_type": "markdown",
   "id": "bdaad83c",
   "metadata": {},
   "source": [
    "### Problem Statement 7:\n",
    "Fill in the blank spaces in the table and draw your conclusions from it.\n",
    "\n",
    "![image.png](attachment:image.png)"
   ]
  },
  {
   "cell_type": "markdown",
   "id": "69908805",
   "metadata": {},
   "source": [
    "#### i)  Acceptance Region 48.5 < x < 51.5"
   ]
  },
  {
   "cell_type": "code",
   "execution_count": 17,
   "id": "deba0278",
   "metadata": {
    "scrolled": true
   },
   "outputs": [
    {
     "name": "stdout",
     "output_type": "stream",
     "text": [
      "-4.427188724235731\n",
      "-0.6324555320336759\n",
      "Beta at Mu1 = 52 is : 0.2643\n"
     ]
    }
   ],
   "source": [
    "# Calculate Beta at Mu1 = 52\n",
    "n1 = 10\n",
    "Sig =2.5\n",
    "Mu1 =52\n",
    "\n",
    "p11 = (48.5 - Mu1)/(Sig/math.sqrt(n1))\n",
    "print(p11)\n",
    "p12 = (51.5 - Mu1)/(Sig/math.sqrt(n1))\n",
    "print(p12)\n",
    "# As p12 > p11, so our z score lies in between these two p12 < z < p11.\n",
    "# Find probability at these z score\n",
    "P11 = 0\n",
    "P12 = 0.2643\n",
    "# now Beta = p12 - p11\n",
    "Beta11 = P12 - P11\n",
    "print(f\"Beta at Mu1 = 52 is : {Beta11}\")"
   ]
  },
  {
   "cell_type": "code",
   "execution_count": 18,
   "id": "04f4003d",
   "metadata": {},
   "outputs": [
    {
     "name": "stdout",
     "output_type": "stream",
     "text": [
      "-2.5298221281347035\n",
      "1.2649110640673518\n",
      "Beta at Mu2 = 50.5 is : 0.1095\n"
     ]
    }
   ],
   "source": [
    "# Calculate Beta at Mu2 = 50.5\n",
    "n1 = 10\n",
    "Sig =2.5\n",
    "Mu2 =50.5\n",
    "\n",
    "p13 = (48.5 - Mu2)/(Sig/math.sqrt(n1))\n",
    "print(p13)\n",
    "p14 = (51.5 - Mu2)/(Sig/math.sqrt(n1))\n",
    "print(p14)\n",
    "\n",
    "# so our z score lies in between these two p13 < z < p14.\n",
    "# Find probability at these z score\n",
    "P13 = 0.0057\n",
    "P14 = 0.8962\n",
    "# now Beta = p13 +(1 - p14)\n",
    "Beta12 = P13 +(1- P14)\n",
    "print(f\"Beta at Mu2 = 50.5 is : {Beta12}\")"
   ]
  },
  {
   "cell_type": "markdown",
   "id": "1fc55a3e",
   "metadata": {},
   "source": [
    "#### ii) Acceptance Region 48 < x < 51"
   ]
  },
  {
   "cell_type": "code",
   "execution_count": 19,
   "id": "680ef617",
   "metadata": {},
   "outputs": [
    {
     "name": "stdout",
     "output_type": "stream",
     "text": [
      "-5.059644256269407\n",
      "-1.2649110640673518\n",
      "Beta at Mu2 = 52 is : 0.1038\n"
     ]
    }
   ],
   "source": [
    "# Calculate Beta at Mu1 = 52\n",
    "n2 = 10\n",
    "Sig =2.5\n",
    "Mu1 =52\n",
    "\n",
    "p21 = (48.0 - Mu1)/(Sig/math.sqrt(n2))\n",
    "print(p21)\n",
    "p22 = (51.0 - Mu1)/(Sig/math.sqrt(n2))\n",
    "print(p22)\n",
    "\n",
    "# As p22 > p21, so our z score lies in between these two p22 < z < p21.\n",
    "# Find probability at these z score\n",
    "P21 = 0\n",
    "P22 = 0.1038\n",
    "# now Beta = p22 - p21\n",
    "Beta21 = P22 - P21\n",
    "print(f\"Beta at Mu2 = 52 is : {Beta21}\")"
   ]
  },
  {
   "cell_type": "code",
   "execution_count": 20,
   "id": "86d4f4d0",
   "metadata": {},
   "outputs": [
    {
     "name": "stdout",
     "output_type": "stream",
     "text": [
      "-3.1622776601683795\n",
      "0.6324555320336759\n",
      "Beta at Mu2 = 50.5 is : 0.2651\n"
     ]
    }
   ],
   "source": [
    "# Calculate Beta at Mu2 = 50.5\n",
    "n2 = 10\n",
    "Sig =2.5\n",
    "Mu2 =50.5\n",
    "\n",
    "p23 = (48 - Mu2)/(Sig/math.sqrt(n2))\n",
    "print(p23)\n",
    "p24 = (51 - Mu2)/(Sig/math.sqrt(n2))\n",
    "print(p24)\n",
    "\n",
    "# so our z score lies in between these two p13 < z < p14.\n",
    "# Find probability at these z score\n",
    "P23 = 0.0008\n",
    "P24 = 0.7357\n",
    "# now Beta = p13 +(1 - p14)\n",
    "Beta22 = P23 +(1- P24)\n",
    "print(f\"Beta at Mu2 = 50.5 is : {Beta22}\")"
   ]
  },
  {
   "cell_type": "markdown",
   "id": "c7c8a42a",
   "metadata": {},
   "source": [
    "#### iii) Acceptance Region 48.81 < x < 51.9"
   ]
  },
  {
   "cell_type": "code",
   "execution_count": 21,
   "id": "d7244975",
   "metadata": {},
   "outputs": [
    {
     "name": "stdout",
     "output_type": "stream",
     "text": [
      "-5.1039999999999965\n",
      "-0.16000000000000228\n",
      "Beta at Mu2 = 52 is : 0.4364\n"
     ]
    }
   ],
   "source": [
    "# Calculate Beta at Mu1 = 52\n",
    "n3 = 16\n",
    "Sig =2.5\n",
    "Mu1 =52\n",
    "\n",
    "p31 = (48.81 - Mu1)/(Sig/math.sqrt(n3))\n",
    "print(p31)\n",
    "p32 = (51.9 - Mu1)/(Sig/math.sqrt(n3))\n",
    "print(p32)\n",
    "\n",
    "# so our z score lies in between these two p31 < z < p32.\n",
    "# Find probability at these z score\n",
    "P31 = 0.4364\n",
    "P32 = 0\n",
    "# now Beta = p31 - p32\n",
    "Beta31 = P31 - P32\n",
    "print(f\"Beta at Mu2 = 52 is : {Beta31}\")"
   ]
  },
  {
   "cell_type": "code",
   "execution_count": 22,
   "id": "6b1c9089",
   "metadata": {},
   "outputs": [
    {
     "name": "stdout",
     "output_type": "stream",
     "text": [
      "-2.703999999999996\n",
      "2.2399999999999975\n",
      "Beta at Mu2 = 50.5 is : 0.015700000000000047\n"
     ]
    }
   ],
   "source": [
    "# Calculate Beta at Mu2 = 50.5\n",
    "n3 = 16\n",
    "Sig =2.5\n",
    "Mu2 =50.5\n",
    "\n",
    "p33 = (48.81 - Mu2)/(Sig/math.sqrt(n3))\n",
    "print(p33)\n",
    "p34 = (51.9 - Mu2)/(Sig/math.sqrt(n3))\n",
    "print(p34)\n",
    "\n",
    "# so our z score lies in between these two p33 < z < 1- p34.\n",
    "# Find probability at these z score\n",
    "P33 = 0.0032\n",
    "P34 = 0.9875\n",
    "# now Beta = P33 + 1- P34\n",
    "Beta32 = P33 +1 - P34\n",
    "print(f\"Beta at Mu2 = 50.5 is : {Beta32}\")"
   ]
  },
  {
   "cell_type": "markdown",
   "id": "a739a88f",
   "metadata": {},
   "source": [
    "#### iv) Acceptance Region 48.42 <x < 51.58"
   ]
  },
  {
   "cell_type": "code",
   "execution_count": 23,
   "id": "3ef31718",
   "metadata": {},
   "outputs": [
    {
     "name": "stdout",
     "output_type": "stream",
     "text": [
      "-5.727999999999997\n",
      "-0.6720000000000027\n",
      "Beta at Mu2 = 52 is : 0.2514\n"
     ]
    }
   ],
   "source": [
    "# Calculate Beta at Mu1 = 52\n",
    "n4 = 16\n",
    "Sig =2.5\n",
    "Mu1 =52\n",
    "\n",
    "p41 = (48.42 - Mu1)/(Sig/math.sqrt(n4))\n",
    "print(p41)\n",
    "p42 = (51.58 - Mu1)/(Sig/math.sqrt(n4))\n",
    "print(p42)\n",
    "\n",
    "# As P42> P41, so our z score lies in between these two p42 < z < p41.\n",
    "# Find probability at these z score\n",
    "P41 = 0.0\n",
    "P42 = 0.2514\n",
    "# now Beta = p31 - p32\n",
    "Beta41 = P42 - P41\n",
    "print(f\"Beta at Mu2 = 52 is : {Beta41}\")"
   ]
  },
  {
   "cell_type": "code",
   "execution_count": 24,
   "id": "621f084f",
   "metadata": {},
   "outputs": [
    {
     "name": "stdout",
     "output_type": "stream",
     "text": [
      "-2.703999999999996\n",
      "2.2399999999999975\n",
      "Beta at Mu2 = 50.5 is : 0.015999999999999955\n"
     ]
    }
   ],
   "source": [
    "# Calculate Beta at Mu2 = 50.5\n",
    "n4 = 16\n",
    "Sig =2.5\n",
    "Mu2 =50.5\n",
    "\n",
    "p43 = (48.42 - Mu2)/(Sig/math.sqrt(n4))\n",
    "print(p33)\n",
    "p44 = (51.58 - Mu2)/(Sig/math.sqrt(n4))\n",
    "print(p34)\n",
    "\n",
    "# so our z score lies in between these two p33 < z < 1- p34.\n",
    "# Find probability at these z score\n",
    "P43 = 0.0035\n",
    "P44 = 0.9875\n",
    "# now Beta = P43 + 1- P44\n",
    "Beta42 = P43 +(1 - P44)\n",
    "print(f\"Beta at Mu2 = 50.5 is : {Beta42}\")"
   ]
  },
  {
   "cell_type": "markdown",
   "id": "487f0504",
   "metadata": {},
   "source": [
    "### Problem Statement 8:\n",
    "Find the t-score for a sample size of 16 taken from a population with mean 10 when the sample mean is 12 and the sample standard deviation is 1.5."
   ]
  },
  {
   "cell_type": "code",
   "execution_count": 25,
   "id": "e555c477",
   "metadata": {},
   "outputs": [
    {
     "name": "stdout",
     "output_type": "stream",
     "text": [
      "T score =  5.3\n"
     ]
    }
   ],
   "source": [
    "n = 16\n",
    "pop_mean = 10\n",
    "sample_mean = 12\n",
    "sample_std = 1.5\n",
    "\n",
    "SE = sample_std/(n**0.5)\n",
    "t = (sample_mean-pop_mean)/SE\n",
    "\n",
    "print(\"T score = \", round((t),1))"
   ]
  },
  {
   "cell_type": "markdown",
   "id": "14d87590",
   "metadata": {},
   "source": [
    "### Problem Statement 9:\n",
    "Find the t-score below which we can expect 99% of sample means will fall if samples of size 16 are taken from a normally distributed population."
   ]
  },
  {
   "cell_type": "code",
   "execution_count": 26,
   "id": "1f532470",
   "metadata": {},
   "outputs": [
    {
     "name": "stdout",
     "output_type": "stream",
     "text": [
      "T score =  2.946712883338615\n"
     ]
    }
   ],
   "source": [
    "n= 16\n",
    "alpha = (1-0.99)/2\n",
    "t = stats.t.ppf(1-alpha,df=15)\n",
    "\n",
    "print(\"T score = \", t)"
   ]
  },
  {
   "cell_type": "markdown",
   "id": "d177dab5",
   "metadata": {},
   "source": [
    "### Problem Statement 10:\n",
    "If a random sample of size 25 drawn from a normal population gives a mean of 60 and a standard deviation of 4, find the range of t-scores where we can expect to find the middle 95% of all sample means. Compute the probability that (−𝑡0.05 <𝑡<𝑡0.10)."
   ]
  },
  {
   "cell_type": "code",
   "execution_count": 27,
   "id": "a0c4716f",
   "metadata": {},
   "outputs": [
    {
     "name": "stdout",
     "output_type": "stream",
     "text": [
      "Range of T-Score is :  61.651118849302414  -  58.348881150697586\n",
      "Probability that (−𝑡0.05 <𝑡<𝑡0.10) =  0.05914441613731247\n"
     ]
    }
   ],
   "source": [
    "n=25\n",
    "std=4\n",
    "mean=60\n",
    "alpha=(1-0.95)/2\n",
    "\n",
    "t_score = stats.t.ppf(1-alpha,df=24)\n",
    "range_min = mean + t_score*(std/(n**0.5))\n",
    "range_max = mean - t_score*(std/(n**0.5))\n",
    "p = stats.t.cdf(0.1,df=24)-stats.t.cdf(-0.05,df=24)\n",
    "\n",
    "print(\"Range of T-Score is : \", range_min , \" - \", range_max)\n",
    "print(\"Probability that (−𝑡0.05 <𝑡<𝑡0.10) = \", p)"
   ]
  },
  {
   "cell_type": "markdown",
   "id": "6064f92b",
   "metadata": {},
   "source": [
    "### Problem Statement 11:\n",
    "Two-tailed test for difference between two population means Is there evidence to conclude that the number of people travelling from Bangalore to Chennai is different from the number of people travelling from Bangalore to Hosur in a week, given the following: <br>\n",
    "Population 1: Bangalore to Chennai n1 = 1200, x1 = 452, s1 = 212 <br> \n",
    "Population 2: Bangalore to Hosur n2 = 800, x2 = 523, s2 = 185"
   ]
  },
  {
   "cell_type": "code",
   "execution_count": 28,
   "id": "918cdebf",
   "metadata": {},
   "outputs": [
    {
     "name": "stdout",
     "output_type": "stream",
     "text": [
      "Null hypothesis: Population mean of people travelling from Bangalore to Chennai = Population mean of people travelling from Bangalore to Hosur\n",
      "Alternative hypothesis: Population mean of people travelling from Bangalore to Chennai != Population mean of people travelling from Bangalore to Hosur\n"
     ]
    }
   ],
   "source": [
    "print(\"Null hypothesis: Population mean of people travelling from Bangalore to Chennai = Population mean of people travelling from Bangalore to Hosur\")\n",
    "print(\"Alternative hypothesis: Population mean of people travelling from Bangalore to Chennai != Population mean of people travelling from Bangalore to Hosur\")"
   ]
  },
  {
   "cell_type": "code",
   "execution_count": 29,
   "id": "9fc4c0dd",
   "metadata": {},
   "outputs": [
    {
     "name": "stdout",
     "output_type": "stream",
     "text": [
      "Z_Score =  -7.926428526759299\n",
      "Confidence Interval is from  -1.9599639845400545  to  1.9599639845400545\n"
     ]
    }
   ],
   "source": [
    "n1 = 1200 \n",
    "x1 = 452\n",
    "s1 = 212\n",
    "n2 = 800\n",
    "x2 = 523\n",
    "s2 = 185\n",
    "alpha=0.05\n",
    "\n",
    "s_1 = s1**2\n",
    "s_2 = s2**2\n",
    "SE = ((s_1/n1)+(s_2/n2))**0.5\n",
    "z_score = (x1-x2)/SE\n",
    "CI = norm.ppf(alpha/2)\n",
    "\n",
    "print(\"Z_Score = \", z_score)\n",
    "print(\"Confidence Interval is from \", CI , \" to \", -CI)"
   ]
  },
  {
   "cell_type": "code",
   "execution_count": 30,
   "id": "c830674b",
   "metadata": {},
   "outputs": [
    {
     "name": "stdout",
     "output_type": "stream",
     "text": [
      "Z score does not fall between the confidence interval.\n",
      "So, we can reject the Null Hypothesis.\n",
      "Therefore, Population mean of people travelling from Bangalore to Chennai is not equal to Population mean of people travelling from Bangalore to Hosur\n"
     ]
    }
   ],
   "source": [
    "print(\"Z score does not fall between the confidence interval.\")\n",
    "print(\"So, we can reject the Null Hypothesis.\")\n",
    "print(\"Therefore, Population mean of people travelling from Bangalore to Chennai is not equal to Population mean of people travelling from Bangalore to Hosur\")"
   ]
  },
  {
   "cell_type": "markdown",
   "id": "e361395c",
   "metadata": {},
   "source": [
    "### Problem Statement 12:\n",
    "Is there evidence to conclude that the number of people preferring Duracell battery is different from the number of people preferring Energizer battery, given the following: <br>\n",
    "Population 1: Duracell n1 = 100, x1 = 308, s1 = 84 <br> \n",
    "Population 2: Energizer n2 = 100, x2 = 254, s2 = 67"
   ]
  },
  {
   "cell_type": "code",
   "execution_count": 31,
   "id": "59017b45",
   "metadata": {},
   "outputs": [
    {
     "name": "stdout",
     "output_type": "stream",
     "text": [
      "Null hypothesis: Population mean of people preferring Duracell battery = Population mean of people preferring Energizer battery\n",
      "Alternative hypothesis: Population mean of people preferring Duracell battery != Population mean of people preferring Energizer battery\n"
     ]
    }
   ],
   "source": [
    "print(\"Null hypothesis: Population mean of people preferring Duracell battery = Population mean of people preferring Energizer battery\")\n",
    "print(\"Alternative hypothesis: Population mean of people preferring Duracell battery != Population mean of people preferring Energizer battery\")"
   ]
  },
  {
   "cell_type": "code",
   "execution_count": 32,
   "id": "f7aaaf75",
   "metadata": {},
   "outputs": [
    {
     "name": "stdout",
     "output_type": "stream",
     "text": [
      "Z Score =  5.025702668336442\n",
      "Confidence Interval is from  -1.9599639845400545  to  1.9599639845400545\n"
     ]
    }
   ],
   "source": [
    "n1 = 100\n",
    "x1 = 308\n",
    "s1 = 84\n",
    "n2 = 100\n",
    "x2 = 254\n",
    "s2 = 67\n",
    "alpha=0.05\n",
    "\n",
    "s_1=s1**2\n",
    "s_2=s2**2\n",
    "SE=((s_1/n1)+(s_2/n2))**0.5\n",
    "z_score=(x1-x2)/SE\n",
    "CI = norm.ppf(alpha/2)\n",
    "\n",
    "print(\"Z Score = \", z_score)\n",
    "print(\"Confidence Interval is from \", CI , \" to \", -CI)"
   ]
  },
  {
   "cell_type": "code",
   "execution_count": 33,
   "id": "ad9e9e69",
   "metadata": {},
   "outputs": [
    {
     "name": "stdout",
     "output_type": "stream",
     "text": [
      "Z score does not fall between the confidence interval.\n",
      "So, we can reject the Null Hypothesis.\n",
      "Therefore, number of people preferring Duracell battery is not equal to number of people preferring Energizer battery.\n"
     ]
    }
   ],
   "source": [
    "print(\"Z score does not fall between the confidence interval.\")\n",
    "print(\"So, we can reject the Null Hypothesis.\")\n",
    "print(\"Therefore, number of people preferring Duracell battery is not equal to number of people preferring Energizer battery.\")"
   ]
  },
  {
   "cell_type": "markdown",
   "id": "f9b4dfd7",
   "metadata": {},
   "source": [
    "### Problem Statement 13:\n",
    "Pooled estimate of the population variance Does the data provide sufficient evidence to conclude that average percentage increase in the price of sugar differs when it is sold at two different prices?<br>\n",
    "Population 1: Price of sugar = Rs. 27.50, n1 = 14, x1 = 0.317%, s1 = 0.12% <br>\n",
    "Population 2: Price of sugar = Rs. 20.00, n2 = 9, x2 = 0.21%, s2 = 0.11%"
   ]
  },
  {
   "cell_type": "code",
   "execution_count": 34,
   "id": "b42831eb",
   "metadata": {},
   "outputs": [
    {
     "name": "stdout",
     "output_type": "stream",
     "text": [
      "Null hypothesis: Population mean of sugar sold at Rs.27.50 = Population mean of sugar sold at Rs.20.00\n",
      "Alternative hypothesis: Population mean of sugar sold at Rs.27.50 != Population mean of sugar sold at Rs.20.00 \n"
     ]
    }
   ],
   "source": [
    "print(\"Null hypothesis: Population mean of sugar sold at Rs.27.50 = Population mean of sugar sold at Rs.20.00\")\n",
    "print(\"Alternative hypothesis: Population mean of sugar sold at Rs.27.50 != Population mean of sugar sold at Rs.20.00 \")"
   ]
  },
  {
   "cell_type": "code",
   "execution_count": 35,
   "id": "7ba146a3",
   "metadata": {},
   "outputs": [
    {
     "name": "stdout",
     "output_type": "stream",
     "text": [
      "T score =  0.3931089218182991\n",
      "Confidence Interval is from  -1.7207429028118775  to  1.7207429028118775\n"
     ]
    }
   ],
   "source": [
    "n1 = 14 \n",
    "x1 = 0.317\n",
    "s1 = 0.12 \n",
    "n2 = 9 \n",
    "x2 = 0.21 \n",
    "s2 = 0.11\n",
    "\n",
    "s_1=s1**2\n",
    "s_2=s2**2\n",
    "s=((n1-1)*s_1)+((n2-1)*s_2)\n",
    "n=(n1+n2-2)\n",
    "se=(s/n)**0.5\n",
    "n_1=((1/n1)+(1/n2))**0.5\n",
    "t_score=(x1-x2)/se*n_1\n",
    "CI = stats.t.ppf(1-0.05,df=n)\n",
    "\n",
    "print(\"T score = \", t_score)\n",
    "print(\"Confidence Interval is from \", -CI, \" to \", CI)"
   ]
  },
  {
   "cell_type": "code",
   "execution_count": 36,
   "id": "8cee7fb5",
   "metadata": {},
   "outputs": [
    {
     "name": "stdout",
     "output_type": "stream",
     "text": [
      "T score falls between the confidence interval.\n",
      "So, we can conclude that the Null hypothesis is true.\n",
      "Therefore, average percentage increase in the price of sugar does not differ when it is sold at two different prices.\n"
     ]
    }
   ],
   "source": [
    "print(\"T score falls between the confidence interval.\")\n",
    "print(\"So, we can conclude that the Null hypothesis is true.\")\n",
    "print(\"Therefore, average percentage increase in the price of sugar does not differ when it is sold at two different prices.\")"
   ]
  },
  {
   "cell_type": "markdown",
   "id": "12ecd995",
   "metadata": {},
   "source": [
    "### Problem Statement 14:\n",
    "The manufacturers of compact disk players want to test whether a small price reduction is enough to increase sales of their product. Is there evidence that the small price reduction is enough to increase sales of compact disk players?<br> \n",
    "Population 1: Before reduction n1 = 15, x1 = Rs. 6598, s1 = Rs. 844 <br> \n",
    "Population 2: After reduction n2 = 12, x2 = RS. 6870, s2 = Rs. 669"
   ]
  },
  {
   "cell_type": "code",
   "execution_count": 37,
   "id": "c15115fc",
   "metadata": {},
   "outputs": [
    {
     "name": "stdout",
     "output_type": "stream",
     "text": [
      "Null hypothesis: Population mean of sales before price reduction = Population mean of sales after price reduction\n",
      "Alternative hypothesis: Population mean of sales before price reduction != Population mean of sales after price reduction\n"
     ]
    }
   ],
   "source": [
    "print(\"Null hypothesis: Population mean of sales before price reduction = Population mean of sales after price reduction\")\n",
    "print(\"Alternative hypothesis: Population mean of sales before price reduction != Population mean of sales after price reduction\")"
   ]
  },
  {
   "cell_type": "code",
   "execution_count": 38,
   "id": "fd09bc13",
   "metadata": {},
   "outputs": [
    {
     "name": "stdout",
     "output_type": "stream",
     "text": [
      "T score is -0.1364745051598569\n",
      "Confidence Interval is from  -1.708140761251899  to  1.708140761251899\n"
     ]
    }
   ],
   "source": [
    "n1 = 15 \n",
    "x1 = 6598 \n",
    "s1 = 844 \n",
    "n2 = 12 \n",
    "x2 = 6870 \n",
    "s2 = 669\n",
    "\n",
    "\n",
    "s_1=s1**2\n",
    "s_2=s2**2\n",
    "s=((n1-1)*s_1)+((n2-1)*s_2)\n",
    "n=(n1+n2-2)\n",
    "se=(s/n)**0.5\n",
    "n_1=((1/n1)+(1/n2))**0.5\n",
    "t_score=(x1-x2)/se*n_1\n",
    "CI = stats.t.ppf(0.05,df=n)\n",
    "\n",
    "print(\"T score is\", t_score)\n",
    "print(\"Confidence Interval is from \", CI , \" to \", -CI)"
   ]
  },
  {
   "cell_type": "code",
   "execution_count": 39,
   "id": "53c55b30",
   "metadata": {},
   "outputs": [
    {
     "name": "stdout",
     "output_type": "stream",
     "text": [
      "T score falls between the confidence interval.\n",
      "So, we can conclude that the Null hypothesis is true.\n",
      "Therefore, we can say that a small price reduction is not enough to increase sales of the product.\n"
     ]
    }
   ],
   "source": [
    "print(\"T score falls between the confidence interval.\")\n",
    "print(\"So, we can conclude that the Null hypothesis is true.\")\n",
    "print(\"Therefore, we can say that a small price reduction is not enough to increase sales of the product.\")"
   ]
  },
  {
   "cell_type": "markdown",
   "id": "7f144003",
   "metadata": {},
   "source": [
    "### Problem Statement 15:\n",
    "Comparisons of two population proportions when the hypothesized difference is zero. Carry out a two-tailed test of the equality of banks’ share of the car loan market in\n",
    "1980 and 1995.<br>\n",
    "Population 1: 1980, n1 = 1000, x1 = 53, 𝑝1 = 0.53 <br>\n",
    "Population 2: 1985, n2 = 100, x2 = 43, 𝑝2= 0.53"
   ]
  },
  {
   "cell_type": "code",
   "execution_count": 40,
   "id": "e594063f",
   "metadata": {},
   "outputs": [
    {
     "name": "stdout",
     "output_type": "stream",
     "text": [
      "Z score =  0.0\n",
      "Critical region is  -1.6448536269514729\n"
     ]
    }
   ],
   "source": [
    "n1 = 1000 \n",
    "x1 = 53 \n",
    "𝑝1 = 0.53 \n",
    "n2 = 100 \n",
    "x2 = 43 \n",
    "𝑝2= 0.53\n",
    "p=(x1+x2)/(n1+n2)\n",
    "\n",
    "n=(1/n1)+(1/n2)\n",
    "p_1=p*(1-p)\n",
    "Z=(p1-p2)/((p_1*n)**0.5)\n",
    "print(\"Z score = \", Z)\n",
    "print(\"Critical region is \", norm.ppf(0.05))"
   ]
  },
  {
   "cell_type": "code",
   "execution_count": 41,
   "id": "bbf482ac",
   "metadata": {},
   "outputs": [
    {
     "name": "stdout",
     "output_type": "stream",
     "text": [
      "We cannot reject the null hypothesis at alpha=10%\n"
     ]
    }
   ],
   "source": [
    "print(\"We cannot reject the null hypothesis at alpha=10%\")"
   ]
  },
  {
   "cell_type": "markdown",
   "id": "30b19aa4",
   "metadata": {},
   "source": [
    "### Problem Statement 16:\n",
    "Carry out a one-tailed test to determine whether the population proportion of traveler’s check buyers who buy at least 2500 in checks when sweepstakes prizes are offered as at least 10% higher than the proportion of such buyers when no sweepstakes are on. <br>\n",
    "Population 1: With sweepstakes, n1 = 300, x1 = 120, 𝑝 = 0.40 <br>\n",
    "Population 2: No sweepstakes, n2 = 700, x2 = 140, 𝑝2= 0.20"
   ]
  },
  {
   "cell_type": "code",
   "execution_count": 42,
   "id": "5dd4e4db",
   "metadata": {},
   "outputs": [
    {
     "name": "stdout",
     "output_type": "stream",
     "text": [
      "Z_score is  3.303749523611152\n",
      "Critical region is  1.6448536269514729\n"
     ]
    }
   ],
   "source": [
    "n1 = 300 \n",
    "x1 = 120 \n",
    "𝑝1 = 0.40  \n",
    "n2 = 700 \n",
    "x2 = 140 \n",
    "𝑝2= 0.20\n",
    "p=(x1+x2)/(n1+n2)\n",
    "\n",
    "n=(1/n1)+(1/n2)\n",
    "p_1=p*(1-p)\n",
    "Z=(p1-p2-0.1)/((p_1*n)**0.5)\n",
    "print(\"Z_score is \", Z)\n",
    "print(\"Critical region is \", -norm.ppf(0.05))"
   ]
  },
  {
   "cell_type": "code",
   "execution_count": 43,
   "id": "d2b5b62a",
   "metadata": {},
   "outputs": [
    {
     "name": "stdout",
     "output_type": "stream",
     "text": [
      "We reject null hypothesis at alpha=5%\n"
     ]
    }
   ],
   "source": [
    "print(\"We reject null hypothesis at alpha=5%\")"
   ]
  },
  {
   "cell_type": "markdown",
   "id": "22ede0aa",
   "metadata": {},
   "source": [
    "### Problem Statement 17:\n",
    "A die is thrown 132 times with the following results: <br>\n",
    "Number turned up: 1, 2, 3, 4, 5, 6 <br>\n",
    "Frequency: 16, 20, 25, 14, 29, 28 <br>\n",
    "Is the die unbiased? Consider the degrees of freedom as 𝑝 − 1."
   ]
  },
  {
   "cell_type": "code",
   "execution_count": 44,
   "id": "8fbcdd82",
   "metadata": {},
   "outputs": [
    {
     "name": "stdout",
     "output_type": "stream",
     "text": [
      "Chi square value is  9.0  and p-value is  0.1090641579497725\n",
      "Therefore, the Die is unbiased.\n"
     ]
    }
   ],
   "source": [
    "f_obs= [16, 20, 25, 14, 29, 28]\n",
    "f_exp= [22,22,22,22,22,22]\n",
    "result=stats.chisquare(f_obs,f_exp)\n",
    "print(\"Chi square value is \", result[0], \" and p-value is \", result[1])\n",
    "print(\"Therefore, the Die is unbiased.\")"
   ]
  },
  {
   "attachments": {
    "image.png": {
     "image/png": "[encoded data removed]"
    }
   },
   "cell_type": "markdown",
   "id": "321573ee",
   "metadata": {},
   "source": [
    "### Problem Statement 18:\n",
    "In a certain town, there are about one million eligible voters. A simple random sample of 10,000 eligible voters was chosen to study the relationship between gender and participation in the last election. The results are summarized in the following 2X2 (read two by two) contingency table:\n",
    "\n",
    "![image.png](attachment:image.png)\n",
    "\n",
    "We would want to check whether being a man or a woman (columns) is independent of\n",
    "having voted in the last election (rows). In other words, is “gender and voting independent”?"
   ]
  },
  {
   "cell_type": "code",
   "execution_count": 45,
   "id": "2122d442",
   "metadata": {},
   "outputs": [
    {
     "name": "stdout",
     "output_type": "stream",
     "text": [
      "Chi Square value is  6.660455899328067\n",
      "Critical region with alpha=0.05 is 3.84\n",
      "We reject null hypothesis. Therefore, it is not gender and voting independent\n"
     ]
    }
   ],
   "source": [
    "observed_voted_men=2792\n",
    "observed_voted_women=3591\n",
    "observed_not_voted_men=1486\n",
    "observed_not_voted_women=2131\n",
    "total_voted=2792+3591\n",
    "total_not_voted=1486+2131\n",
    "total_men=2792+1486\n",
    "total_women=3591+2131\n",
    "expected_voted_men=(total_voted*total_men)/10000\n",
    "expected_voted_women=(total_voted*total_women)/10000\n",
    "expected_not_voted_men=(total_not_voted*total_men)/10000\n",
    "expected_not_voted_women=(total_not_voted*total_women)/10000\n",
    "\n",
    "chisquare1=(((observed_voted_women-expected_voted_women)**2)/expected_voted_women)\n",
    "chisquare2=(((observed_voted_men-expected_voted_men)**2)/expected_voted_men)\n",
    "chisquare3=(((observed_not_voted_men-expected_not_voted_men)**2)/expected_not_voted_men)\n",
    "chisquare4=(((observed_not_voted_women-expected_not_voted_women)**2)/expected_not_voted_women)\n",
    "chisquare=chisquare1+chisquare2+chisquare3+chisquare4\n",
    "\n",
    "print(\"Chi Square value is \", chisquare)\n",
    "print(\"Critical region with alpha=0.05 is 3.84\")\n",
    "print(\"We reject null hypothesis. Therefore, it is not gender and voting independent\")"
   ]
  },
  {
   "attachments": {
    "image.png": {
     "image/png": "[encoded data removed]"
    }
   },
   "cell_type": "markdown",
   "id": "b2d96d31",
   "metadata": {},
   "source": [
    "### Problem Statement 19:\n",
    "A sample of 100 voters are asked which of four candidates they would vote for in an\n",
    "election. The number supporting each candidate is given below:\n",
    "\n",
    "![image.png](attachment:image.png)\n",
    "\n",
    "Do the data suggest that all candidates are equally popular? [Chi-Square = 14.96,\n",
    "with 3 df, 𝑝 0.05 ]."
   ]
  },
  {
   "cell_type": "code",
   "execution_count": 46,
   "id": "98673a28",
   "metadata": {},
   "outputs": [
    {
     "name": "stdout",
     "output_type": "stream",
     "text": [
      "Chi Square value is  14.959999999999999\n",
      "Critical region with 3df and alpha=0.05 is 7.82\n",
      "We reject null hypothesis. Therefore, all candidates are not equally popular\n"
     ]
    }
   ],
   "source": [
    "#print(np.mean([41,19,24,16]))\n",
    "obs=[41,19,24,16]\n",
    "exp=[25,25,25,25]\n",
    "result=stats.chisquare(obs,exp)\n",
    "print(\"Chi Square value is \", result[0])\n",
    "print(\"Critical region with 3df and alpha=0.05 is 7.82\")\n",
    "print(\"We reject null hypothesis. Therefore, all candidates are not equally popular\")"
   ]
  },
  {
   "attachments": {
    "image.png": {
     "image/png": "[encoded data removed]"
    }
   },
   "cell_type": "markdown",
   "id": "dc830486",
   "metadata": {},
   "source": [
    "### Problem Statement 20:\n",
    "Children of three ages are asked to indicate their preference for three photographs of\n",
    "adults. Do the data suggest that there is a significant relationship between age and\n",
    "photograph preference? What is wrong with this study? [Chi-Square = 29.6, with 4\n",
    "df: 𝑝 < 0.05].\n",
    "\n",
    "![image.png](attachment:image.png)"
   ]
  },
  {
   "cell_type": "code",
   "execution_count": 47,
   "id": "874a16bb",
   "metadata": {},
   "outputs": [
    {
     "name": "stdout",
     "output_type": "stream",
     "text": [
      "Chi Square value is  29.603174603174608\n",
      "Critical region with 4df and alpha=0.001 is 18.47\n",
      "We reject null hypothesis.Therefore, there is significant relationship between age and photograph preference\n"
     ]
    }
   ],
   "source": [
    "obs=([[18,22,20],[2,28,40],[20,10,40]])\n",
    "result=chi2_contingency(obs)\n",
    "print(\"Chi Square value is \", result[0])\n",
    "print(\"Critical region with 4df and alpha=0.001 is 18.47\")\n",
    "print(\"We reject null hypothesis.Therefore, there is significant relationship between age and photograph preference\")"
   ]
  },
  {
   "attachments": {
    "image.png": {
     "image/png": "[encoded data removed]"
    }
   },
   "cell_type": "markdown",
   "id": "fe831be7",
   "metadata": {},
   "source": [
    "### Problem Statement 21:\n",
    "A study of conformity using the Asch paradigm involved two conditions: one where\n",
    "one confederate supported the true judgement and another where no confederate\n",
    "gave the correct response.\n",
    "\n",
    "![image.png](attachment:image.png)\n",
    "\n",
    "Is there a significant difference between the \"support\" and \"no support\" conditions in the\n",
    "frequency with which individuals are likely to conform? [Chi-Square = 19.87, with 1 df:\n",
    "𝑝 < 0.05]."
   ]
  },
  {
   "cell_type": "code",
   "execution_count": 48,
   "id": "a414bd24",
   "metadata": {},
   "outputs": [
    {
     "name": "stdout",
     "output_type": "stream",
     "text": [
      "Chi Square value is  18.10344827586207\n",
      "Critical region with 1df and alpha=0.001 is 10.83\n",
      "We reject null hypoythesis. So,there is significant difference between the 'support' and 'no support' conditions in the frequency with which individuals ar likely to conform\n"
     ]
    }
   ],
   "source": [
    "obs=np.array([[18,40],[32,10]])\n",
    "result=chi2_contingency(obs)\n",
    "print(\"Chi Square value is \", result[0])\n",
    "print(\"Critical region with 1df and alpha=0.001 is 10.83\")\n",
    "print(\"We reject null hypoythesis. So,there is significant difference between the 'support' and 'no support' conditions in the frequency with which individuals ar likely to conform\")"
   ]
  },
  {
   "attachments": {
    "image.png": {
     "image/png": "[encoded data removed]"
    }
   },
   "cell_type": "markdown",
   "id": "6e321266",
   "metadata": {},
   "source": [
    "### Problem Statement 22:\n",
    "We want to test whether short people differ with respect to their leadership qualities\n",
    "(Genghis Khan, Adolf Hitler and Napoleon were all stature-deprived, and how many midget\n",
    "MP's are there?) The following table shows the frequencies with which 43 short people and\n",
    "52 tall people were categorized as \"leaders\", \"followers\" or as \"unclassifiable\". Is there a\n",
    "relationship between height and leadership qualities? <br>\n",
    "[Chi-Square = 10.71, with 2 df: 𝑝 < 0.01].\n",
    "\n",
    "![image.png](attachment:image.png)"
   ]
  },
  {
   "cell_type": "code",
   "execution_count": 49,
   "id": "c929088e",
   "metadata": {},
   "outputs": [
    {
     "name": "stdout",
     "output_type": "stream",
     "text": [
      "Chi Square value is  10.712198008709638\n",
      "Critical region with 2df and alpha=0.001 is 13.82\n",
      "We accept null hypothesis.Therefore, there is no relationship between height and leadership qualities\n"
     ]
    }
   ],
   "source": [
    "obs=([[12,32],[22,14],[9,6]])\n",
    "result=chi2_contingency(obs)\n",
    "print(\"Chi Square value is \", result[0])\n",
    "print(\"Critical region with 2df and alpha=0.001 is 13.82\")\n",
    "print(\"We accept null hypothesis.Therefore, there is no relationship between height and leadership qualities\")"
   ]
  },
  {
   "attachments": {
    "image.png": {
     "image/png": "[encoded data removed]"
    }
   },
   "cell_type": "markdown",
   "id": "df2b8be1",
   "metadata": {},
   "source": [
    "### Problem Statement 23:\n",
    "Each respondent in the Current Population Survey of March 1993 was classified as\n",
    "employed, unemployed, or outside the labor force. The results for men in California age 35-\n",
    "44 can be cross-tabulated by marital status, as follows:\n",
    "\n",
    "![image.png](attachment:image.png)\n",
    "\n",
    "Men of different marital status seem to have different distributions of labor force status. Or is\n",
    "this just chance variation? (you may assume the table results from a simple random\n",
    "sample.)"
   ]
  },
  {
   "cell_type": "code",
   "execution_count": 50,
   "id": "58e2a0df",
   "metadata": {},
   "outputs": [
    {
     "name": "stdout",
     "output_type": "stream",
     "text": [
      "Chi Square value is  31.61310319407798\n",
      "Critical region with 4df and alpha=0.001 is 18.47\n",
      "We reject null hypothesis at alpha=0.001 .Therefore, there is relationship between martial status and employment status\n"
     ]
    }
   ],
   "source": [
    "obs = np.array([[679,103,114], [63,10,20],[42,18,25]])\n",
    "result=chi2_contingency(obs)\n",
    "print(\"Chi Square value is \", result[0])\n",
    "print(\"Critical region with 4df and alpha=0.001 is 18.47\")\n",
    "print(\"We reject null hypothesis at alpha=0.001 .Therefore, there is relationship between martial status and employment status\")"
   ]
  },
  {
   "cell_type": "code",
   "execution_count": null,
   "id": "58f93e9d",
   "metadata": {},
   "outputs": [],
   "source": []
  }
 ],
 "metadata": {
  "kernelspec": {
   "display_name": "Python 3 (ipykernel)",
   "language": "python",
   "name": "python3"
  },
  "language_info": {
   "codemirror_mode": {
    "name": "ipython",
    "version": 3
   },
   "file_extension": ".py",
   "mimetype": "text/x-python",
   "name": "python",
   "nbconvert_exporter": "python",
   "pygments_lexer": "ipython3",
   "version": "3.9.7"
  }
 },
 "nbformat": 4,
 "nbformat_minor": 5
}
